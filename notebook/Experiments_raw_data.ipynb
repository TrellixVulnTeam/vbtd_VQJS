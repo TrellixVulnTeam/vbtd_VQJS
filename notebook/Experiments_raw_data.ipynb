{
 "cells": [
  {
   "cell_type": "code",
   "execution_count": 1,
   "metadata": {},
   "outputs": [
    {
     "name": "stdout",
     "output_type": "stream",
     "text": [
      "Number of threads was limited to 4.\n"
     ]
    }
   ],
   "source": [
    "MAX_NUM_THREADS = 4\n",
    "\n",
    "import ctypes\n",
    "mkl_rt = ctypes.CDLL('libmkl_rt.so')\n",
    "#print(mkl_rt.mkl_get_max_threads())\n",
    "mkl_get_max_threads = mkl_rt.mkl_get_max_threads\n",
    "def mkl_set_num_threads(cores):\n",
    "    mkl_rt.mkl_set_num_threads(ctypes.byref(ctypes.c_int(cores)))\n",
    "\n",
    "mkl_set_num_threads(MAX_NUM_THREADS)\n",
    "print(f'Number of threads was limited to {mkl_get_max_threads()}.')"
   ]
  },
  {
   "cell_type": "code",
   "execution_count": 2,
   "metadata": {},
   "outputs": [],
   "source": [
    "import os\n",
    "import numpy as np\n",
    "\n",
    "import matplotlib.pyplot as plt\n",
    "%matplotlib inline\n",
    "\n",
    "import numpy_tools\n",
    "import loaders.eth80 as eth80\n",
    "import loaders.smni_eeg as smni_eeg\n",
    "\n",
    "from experiment_tools import temporal_sscal\n",
    "from experiment_tools import kmeans_gmm_clustering_experiment\n",
    "from experiment_tools import hac_clustering_experiment\n"
   ]
  },
  {
   "cell_type": "code",
   "execution_count": 3,
   "metadata": {},
   "outputs": [],
   "source": [
    "data_eth80_dirname = '/home/hariyuki/data/eth80/'\n",
    "data_smni_dirname = '/home/hariyuki/data/eeg_smni/'"
   ]
  },
  {
   "cell_type": "code",
   "execution_count": 4,
   "metadata": {},
   "outputs": [],
   "source": [
    "# load ETH80\n",
    "data_eth80_path = os.path.join(data_eth80_dirname, 'eth80-cropped-close128')\n",
    "\n",
    "image_shape = 32\n",
    "Nclasses, Nobjects = 8, 10\n",
    "Npixels = int(round(image_shape**2))\n",
    "\n",
    "data, labels, classes = eth80.eth80_dataset(data_eth80_path, image_shape)\n",
    "classes_reverse_dict = dict((y, x) for x, y in classes.items())\n",
    "Nsamples, Nangles, _, _, Ncolors = data.shape\n",
    "data = numpy_tools.reshape_np(data, [Nangles, -1, Ncolors], order='F', use_batch=True)\n",
    "permutation = [0, 2, 1, 3]\n",
    "data = np.transpose(data, permutation)\n",
    "\n",
    "n = [Npixels, Nangles, Ncolors]\n",
    "\n",
    "eth80_dataset = {\n",
    "    'data': data,\n",
    "    'n': n,\n",
    "    'labels': labels,\n",
    "    'classes': classes,\n",
    "    'classes_reverse_dict': classes_reverse_dict\n",
    "}"
   ]
  },
  {
   "cell_type": "code",
   "execution_count": 5,
   "metadata": {},
   "outputs": [],
   "source": [
    "# load SMNI EEG\n",
    "data_smni_path = os.path.join(data_smni_dirname, 'smni_eeg_processed.npz')\n",
    "df = np.load(data_smni_path)\n",
    "data, labels = df['data'], df['labels']\n",
    "\n",
    "Nsubjects, Nchannels, Ntime, Nconditions = data.shape\n",
    "permutation = [0, 2, 1, 3]\n",
    "data = np.transpose(data, permutation)\n",
    "n = [Ntime, Nchannels, Nconditions]\n",
    "\n",
    "smni_dataset = {\n",
    "    'data': data,\n",
    "    'n': n,\n",
    "    'labels': labels\n",
    "}"
   ]
  },
  {
   "cell_type": "code",
   "execution_count": 6,
   "metadata": {},
   "outputs": [],
   "source": [
    "datasets = {\n",
    "    'eth80': eth80_dataset,\n",
    "    'smni': smni_dataset\n",
    "}\n",
    "dataset_names = list(datasets.keys())"
   ]
  },
  {
   "cell_type": "markdown",
   "metadata": {},
   "source": [
    "## Clustering of raw data"
   ]
  },
  {
   "cell_type": "code",
   "execution_count": 7,
   "metadata": {},
   "outputs": [],
   "source": [
    "save_results_dirname = '../results/clustering/'\n",
    "os.makedirs(save_results_dirname, exist_ok=True)"
   ]
  },
  {
   "cell_type": "markdown",
   "metadata": {},
   "source": [
    "### Hierarchical agglomerative clustering"
   ]
  },
  {
   "cell_type": "code",
   "execution_count": 8,
   "metadata": {},
   "outputs": [
    {
     "name": "stdout",
     "output_type": "stream",
     "text": [
      "\t\t\t eth80\n",
      "\t\t Affinity: l1\n",
      "\t Linkage: complete\n",
      "ARI=0.475 AMI=0.629 FMI=0.548 \n",
      "\t Linkage: average\n",
      "ARI=0.470 AMI=0.672 FMI=0.556 \n",
      "\t\t Affinity: l2\n",
      "\t Linkage: complete\n",
      "ARI=0.395 AMI=0.618 FMI=0.503 \n",
      "\t Linkage: average\n",
      "ARI=0.389 AMI=0.639 FMI=0.523 \n",
      "\t\t Affinity: cosine\n",
      "\t Linkage: complete\n",
      "ARI=0.389 AMI=0.636 FMI=0.518 \n",
      "\t Linkage: average\n",
      "ARI=0.409 AMI=0.643 FMI=0.537 \n",
      "\t\t Affinity: canberra\n",
      "\t Linkage: complete\n",
      "ARI=0.395 AMI=0.564 FMI=0.489 \n",
      "\t Linkage: average\n",
      "ARI=0.436 AMI=0.696 FMI=0.561 \n",
      "\t\t Affinity: correlation\n",
      "\t Linkage: complete\n",
      "ARI=0.515 AMI=0.670 FMI=0.587 \n",
      "\t Linkage: average\n",
      "ARI=0.568 AMI=0.749 FMI=0.638 \n",
      "\t\t Affinity: rbf\n",
      "\t Linkage: complete\n",
      "ARI=0.016 AMI=0.032 FMI=0.327 \n",
      "\t Linkage: average\n",
      "ARI=0.016 AMI=0.032 FMI=0.327 \n",
      "\t\t\t smni\n",
      "\t\t Affinity: l1\n",
      "\t Linkage: complete\n",
      "ARI=0.023 AMI=0.030 FMI=0.529 \n",
      "\t Linkage: average\n",
      "ARI=0.013 AMI=0.009 FMI=0.729 \n",
      "\t\t Affinity: l2\n",
      "\t Linkage: complete\n",
      "ARI=0.161 AMI=0.104 FMI=0.601 \n",
      "\t Linkage: average\n",
      "ARI=0.013 AMI=0.009 FMI=0.729 \n",
      "\t\t Affinity: cosine\n",
      "\t Linkage: complete\n",
      "ARI=0.161 AMI=0.104 FMI=0.601 \n",
      "\t Linkage: average\n",
      "ARI=0.013 AMI=0.009 FMI=0.729 \n",
      "\t\t Affinity: canberra\n",
      "\t Linkage: complete\n",
      "ARI=0.119 AMI=0.066 FMI=0.590 \n",
      "\t Linkage: average\n",
      "ARI=0.005 AMI=-0.014 FMI=0.720 \n",
      "\t\t Affinity: correlation\n",
      "\t Linkage: complete\n",
      "ARI=0.161 AMI=0.104 FMI=0.601 \n",
      "\t Linkage: average\n",
      "ARI=0.013 AMI=0.009 FMI=0.729 \n",
      "\t\t Affinity: rbf\n",
      "\t Linkage: complete\n",
      "ARI=0.161 AMI=0.104 FMI=0.601 \n",
      "\t Linkage: average\n",
      "ARI=0.013 AMI=0.009 FMI=0.729 \n"
     ]
    }
   ],
   "source": [
    "save_results_filename = 'plain_ac'\n",
    "save_results_path = os.path.join(save_results_dirname, save_results_filename)\n",
    "    \n",
    "\n",
    "preprocess = {\n",
    "    'smni': temporal_sscal\n",
    "}\n",
    "\n",
    "result, affinity_names, linkage, dataset_names, n_clusters = hac_clustering_experiment(\n",
    "    datasets,\n",
    "    save_results_path=save_results_path,\n",
    "    preprocess=preprocess,\n",
    "    verbose=True\n",
    ")"
   ]
  },
  {
   "cell_type": "markdown",
   "metadata": {},
   "source": [
    "### K-means / GMM clustering"
   ]
  },
  {
   "cell_type": "code",
   "execution_count": 9,
   "metadata": {},
   "outputs": [
    {
     "name": "stdout",
     "output_type": "stream",
     "text": [
      "\t\t\t eth80\n",
      "\t kmeans min/mean/median/max\n",
      "ARI=0.390/0.533/0.530/0.641\n",
      "AMI=0.582/0.690/0.693/0.767\n",
      "FMI=0.479/0.597/0.594/0.682\n",
      "\t GMM min/mean/median/max\n",
      "ARI=0.320/0.475/0.477/0.586\n",
      "AMI=0.526/0.639/0.653/0.741\n",
      "FMI=0.433/0.549/0.548/0.642\n",
      "\t\t\t smni\n",
      "\t kmeans min/mean/median/max\n",
      "ARI=0.160/0.196/0.203/0.220\n",
      "AMI=0.099/0.123/0.127/0.141\n",
      "FMI=0.604/0.624/0.629/0.635\n",
      "\t GMM min/mean/median/max\n",
      "ARI=0.008/0.156/0.175/0.205\n",
      "AMI=0.003/0.103/0.115/0.135\n",
      "FMI=0.520/0.597/0.607/0.629\n"
     ]
    }
   ],
   "source": [
    "save_results_filename = 'plain_kmeans_gmm'\n",
    "save_results_path = os.path.join(save_results_dirname, save_results_filename)\n",
    "Ntrials = 20\n",
    "np_random_seed = 720\n",
    "\n",
    "preprocess = {\n",
    "    'smni': temporal_sscal\n",
    "}\n",
    "\n",
    "result, dataset_names, random_states, clust_alg_names, n_clusters = (\n",
    "    kmeans_gmm_clustering_experiment(\n",
    "        datasets,\n",
    "        save_results_path=save_results_path,\n",
    "        preprocess=preprocess,\n",
    "        Ntrials=Ntrials,\n",
    "        np_random_seed=np_random_seed,\n",
    "        verbose=True\n",
    "    )\n",
    ")\n"
   ]
  }
 ],
 "metadata": {
  "kernelspec": {
   "display_name": "Python 3",
   "language": "python",
   "name": "python3"
  },
  "language_info": {
   "codemirror_mode": {
    "name": "ipython",
    "version": 3
   },
   "file_extension": ".py",
   "mimetype": "text/x-python",
   "name": "python",
   "nbconvert_exporter": "python",
   "pygments_lexer": "ipython3",
   "version": "3.7.3"
  }
 },
 "nbformat": 4,
 "nbformat_minor": 2
}
